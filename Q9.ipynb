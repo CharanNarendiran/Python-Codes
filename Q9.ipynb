{
 "cells": [
  {
   "cell_type": "markdown",
   "id": "80996523",
   "metadata": {},
   "source": [
    "1. Make a variable named fruits_a that contains a list of only the fruits that does not contain the letter \"a\".\n",
    "fruits=[]\n",
    "\n",
    "\n",
    "The fruit name has to be taken as an input from the user.If a fruit with letter \"a\", then the user should be asked to re-enter the input, and if user enters two consecutive fruits with letter \"a\", then the list should clear all the elements appended and give an appropriate message.\n",
    "\n",
    "\n",
    "Sort the list in ascending order. Count the number of duplicate fruit names in the list.\n",
    "\n",
    "\n",
    "Create a new list from fruits_a, that has more than 4 letters in their name.\n",
    "\n",
    "\n",
    "Include the concept is user defined function for each operation. \n",
    "\n",
    "\n",
    "2.1. Make a variable named fruits_a that contains a list of only the fruits that contain the letter \"a\" with occurences more than 1.\n",
    "fruits=[]\n",
    "3.Create a list with prime numbers ranging from range m,n where m and n are user given range. Provide the explanation of the code using markdown. *Use the concept of user-defined functions."
   ]
  },
  {
   "cell_type": "code",
   "execution_count": 1,
   "id": "4b40e86a",
   "metadata": {},
   "outputs": [
    {
     "name": "stdout",
     "output_type": "stream",
     "text": [
      "how many fruits do u have? 3\n",
      "enter a fruit name: apple\n",
      "enter a fruit name: mango\n",
      "['mango']\n",
      "enter a fruit name: orange\n",
      "['mango', 'orange']\n"
     ]
    }
   ],
   "source": [
    "fruits_a=[]\n",
    "n=int(input('how many fruits do u have? '))\n",
    "count=0\n",
    "for i in range(n):\n",
    "    a=input('enter a fruit name: ')\n",
    "    for x in range(0,len(a)):\n",
    "        if a[x]=='a':\n",
    "            count+=1\n",
    "            if count>1:\n",
    "                fruits_a.append(a)\n",
    "                print(fruits_a)\n",
    "                break\n"
   ]
  },
  {
   "cell_type": "code",
   "execution_count": 2,
   "id": "2830699b",
   "metadata": {},
   "outputs": [
    {
     "name": "stdout",
     "output_type": "stream",
     "text": [
      "['papaya', 'banana', 'guava']\n"
     ]
    }
   ],
   "source": [
    "def fruit_list():\n",
    "    fruits_a =['apple', 'watermelon', 'papaya', 'banana', 'guava']\n",
    "    fruits = []\n",
    "    for a in fruits_a:\n",
    "        if a.count('a') > 1:\n",
    "            fruits.append(a)\n",
    "    print(fruits)\n",
    "fruit_list()\n"
   ]
  },
  {
   "cell_type": "code",
   "execution_count": 3,
   "id": "a43aceaa",
   "metadata": {},
   "outputs": [
    {
     "name": "stdout",
     "output_type": "stream",
     "text": [
      "Give fruits name without the letter 'a'\n",
      "press 1 if u want to exit.\n",
      "Enter a fruit name- kiwi\n",
      "Enter a fruit name- berry\n",
      "Enter a fruit name- cherry\n",
      "Enter a fruit name- orange\n",
      "This does not contain 'a' in it\n",
      "You have 1 left\n",
      "Enter a fruit name- guava\n",
      "This does not contain 'a' in it\n",
      "You have 0 left\n",
      "You have lost all your chances\n",
      "The lis thas been cleared\n",
      "[]\n",
      "[]\n"
     ]
    }
   ],
   "source": [
    "def fruit_name():    \n",
    "    fruits_a = []\n",
    "    print(\"Give fruits name without the letter 'a'\")\n",
    "    print(\"press 1 if u want to exit.\")\n",
    "    count = 1\n",
    "    while count >= 0:\n",
    "        fruit = input(\"Enter a fruit name- \").lower()\n",
    "        if 'a' not in fruit and fruit != '1':\n",
    "            fruits_a.append(fruit)\n",
    "        elif 'a' in fruit:\n",
    "            print(\"This does not contain 'a' in it\")\n",
    "            print(f\"You have {count} left\")\n",
    "            count -= 1\n",
    "        if fruit == '1':\n",
    "            print(\"The list of fruits name\")\n",
    "            return fruits_a\n",
    "    else: \n",
    "        print(\"You have lost all your chances\")\n",
    "        print(\"The lis thas been cleared\")\n",
    "        fruits_a.clear()\n",
    "        return fruits_a\n",
    "def fruit_sort(f_list):\n",
    "    return f_list.sort()\n",
    "\n",
    "def dup_fruit(f_list):\n",
    "    set_f = set(f_list)\n",
    "    for i in set_f:\n",
    "        c = f_list.count(i)\n",
    "        if c > 1:\n",
    "            print(f\"The num of duplicate of {i} is {c}\")\n",
    "def name_4(f_list):\n",
    "    fruit = []\n",
    "    for i in f_list:\n",
    "        if len(i) == 4:\n",
    "            fruit.append(i)\n",
    "    return fruit\n",
    "\n",
    "fruit_a = fruit_name()\n",
    "print(fruit_a)\n",
    "fruit_sort(fruit_a)\n",
    "print(fruit_a)\n"
   ]
  },
  {
   "cell_type": "code",
   "execution_count": 7,
   "id": "b431c0bf",
   "metadata": {},
   "outputs": [
    {
     "name": "stdout",
     "output_type": "stream",
     "text": [
      "Start-range 5\n",
      "End-range99\n",
      "[5, 7, 11, 13, 17, 19, 23, 29, 31, 37, 41, 43, 47, 53, 59, 61, 67, 71, 73, 79, 83, 89, 97]\n"
     ]
    }
   ],
   "source": [
    "num1 = int(input(\"Start-range \"))\n",
    "num2 = int(input(\"End-range\"))\n",
    "num_list = []\n",
    "def prime_number(number):\n",
    "    bul = []\n",
    "    for j in range(2, number // 2):\n",
    "        if number % j != 0:\n",
    "            bul.append(False)\n",
    "        else:\n",
    "            bul.append(True)\n",
    "    return bul\n",
    "\n",
    "for p in range(num1, num2):\n",
    "    if p == 1:\n",
    "        continue\n",
    "    if sum(prime_number(p)) == 0:\n",
    "        num_list.append(p)\n",
    "\n",
    "print(num_list)"
   ]
  },
  {
   "cell_type": "code",
   "execution_count": null,
   "id": "64d51abb",
   "metadata": {},
   "outputs": [],
   "source": []
  }
 ],
 "metadata": {
  "kernelspec": {
   "display_name": "Python 3 (ipykernel)",
   "language": "python",
   "name": "python3"
  },
  "language_info": {
   "codemirror_mode": {
    "name": "ipython",
    "version": 3
   },
   "file_extension": ".py",
   "mimetype": "text/x-python",
   "name": "python",
   "nbconvert_exporter": "python",
   "pygments_lexer": "ipython3",
   "version": "3.9.13"
  }
 },
 "nbformat": 4,
 "nbformat_minor": 5
}
