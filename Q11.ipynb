{
 "cells": [
  {
   "cell_type": "markdown",
   "id": "6afa4a8c",
   "metadata": {},
   "source": [
    "1.\n",
    "Create a class, Triangle. Its __init__() method should take self, angle1, angle2, and angle3 as arguments. \n",
    "Make sure to set these appropriately in the body of the __init__()method.\n",
    "Create a variable named number_of_sides and set it equal to 3.\n",
    "Create a method named check_angles. The sum of a triangle's three angles should return True if the sum of self.angle1, self.angle2, and self.angle3 is \n",
    "equal 180, and False otherwise.\n",
    "Create a variable named my_triangle and set it equal to a new instance of your Triangle class. Pass it three angles that sum to 180 (e.g. 90, 30, 60).\n",
    "Print out my_triangle.number_of_sides and print out my_triangle.check_angles().\n",
    "\n",
    "2.Create a class called Employee whose objects are records for an employee.\n",
    "This class will be a derived class of the class Person .\n",
    "An employee record has an employee's name and other details like age,place and mob(inherited from the class Person), an annual salary represented as a single value of type double, a year the employee started work as a single value of type int and a national insurance number, which is a value of type String.\n",
    "Your class should have a reasonable number of constructors and accessor methods, as well as an equals method. \n",
    "Class Employee should have a method that calculates the salary to be debited based on the number of days he/she was present.Assuming 3460 is the pay per day for an employee."
   ]
  },
  {
   "cell_type": "code",
   "execution_count": 13,
   "id": "da199a88",
   "metadata": {},
   "outputs": [],
   "source": [
    "class Person:\n",
    "    \n",
    "    def __init__(self, name, age, mob, place):\n",
    "        self.name = name\n",
    "        self.age = age\n",
    "        self.mob = mob\n",
    "        self.place = place"
   ]
  },
  {
   "cell_type": "code",
   "execution_count": 14,
   "id": "80b05945",
   "metadata": {},
   "outputs": [],
   "source": [
    "class Employee(Person):\n",
    "    \n",
    "    def __init__(self, nin, doj, sal, obj):\n",
    "        self.nin = nin\n",
    "        self.doj = doj\n",
    "        self.sal = (sal * 30) * 12\n",
    "        self.obj = obj\n",
    "        \n",
    "        \n",
    "    def getnin(self):\n",
    "        return self.nin\n",
    "    \n",
    "    def getdoj(self):\n",
    "        return self.doj\n",
    "    \n",
    "    def getsal(self):\n",
    "        return self.sal\n",
    "        \n",
    "    def getname(self):\n",
    "        return self.obj.name\n",
    "\n",
    "    def getage(self):\n",
    "        return self.obj.age\n",
    "    \n",
    "    def getmob(self):\n",
    "        return self.obj.mob\n",
    "    \n",
    "    def getplace(self):\n",
    "        return self.obj.place\n",
    "        \n",
    "    def ret(self):\n",
    "        print(self.nin)\n",
    "        print(self.doj)\n",
    "        print(self.sal)\n",
    "        \n",
    "    def CalSal(self, month, present_days):\n",
    "        self.present = present_days\n",
    "        self.month = month\n",
    "        final_sal = self.sal * self.present\n",
    "        print(f\"{self.obj.name}'s Final Salary for the month {self.month} is {final_sal}\")"
   ]
  },
  {
   "cell_type": "code",
   "execution_count": 16,
   "id": "bff85c9f",
   "metadata": {},
   "outputs": [],
   "source": [
    "emp1= Person('charan',22,'73888888','TN')"
   ]
  },
  {
   "cell_type": "code",
   "execution_count": 17,
   "id": "453db800",
   "metadata": {},
   "outputs": [],
   "source": [
    "d1 = Employee('12345', '24 Feb', 20, emp1)"
   ]
  },
  {
   "cell_type": "code",
   "execution_count": 18,
   "id": "fe746e80",
   "metadata": {},
   "outputs": [
    {
     "data": {
      "text/plain": [
       "'charan'"
      ]
     },
     "execution_count": 18,
     "metadata": {},
     "output_type": "execute_result"
    }
   ],
   "source": [
    "d1.getname()"
   ]
  },
  {
   "cell_type": "code",
   "execution_count": 19,
   "id": "b8c7a27d",
   "metadata": {},
   "outputs": [
    {
     "name": "stdout",
     "output_type": "stream",
     "text": [
      "12345\n",
      "24 Feb\n",
      "7200\n"
     ]
    }
   ],
   "source": [
    "d1.ret()"
   ]
  },
  {
   "cell_type": "code",
   "execution_count": 20,
   "id": "4b9c6f45",
   "metadata": {},
   "outputs": [
    {
     "name": "stdout",
     "output_type": "stream",
     "text": [
      "charan's Final Salary for the month June is 158400\n"
     ]
    }
   ],
   "source": [
    "d1.CalSal('June',22)"
   ]
  }
 ],
 "metadata": {
  "kernelspec": {
   "display_name": "Python 3 (ipykernel)",
   "language": "python",
   "name": "python3"
  },
  "language_info": {
   "codemirror_mode": {
    "name": "ipython",
    "version": 3
   },
   "file_extension": ".py",
   "mimetype": "text/x-python",
   "name": "python",
   "nbconvert_exporter": "python",
   "pygments_lexer": "ipython3",
   "version": "3.9.13"
  }
 },
 "nbformat": 4,
 "nbformat_minor": 5
}
