{
 "cells": [
  {
   "cell_type": "markdown",
   "id": "03017554",
   "metadata": {},
   "source": [
    "1 a. Create two corresponding lists with names as \"Passenger_List\" and \"Passenger_Age\" using the list comprehension technique with minimum 10 entries.\n",
    "  b. Iterate threough the \"Passenger_Age\" categorise the passeners in three categories and append to a new list. [0-18 CHILD  19-40 - Adults 41-65-Old and above 65- Senior Citizens].\n",
    "2 a. Create a new integer list taing size and elements of the list from the user and name it as Int_List.\n",
    "  b. Create a new list \"Sub_list\" with the odd elements greater than 50 from the Int_List using List Comprehension.\n",
    "  c. Create a new list \"Sub_list2\" with the operation (element**2 - 1) if the element is greater than 50 and is even using List Comprehension.\n"
   ]
  },
  {
   "cell_type": "code",
   "execution_count": 8,
   "id": "5fc45ecb",
   "metadata": {},
   "outputs": [
    {
     "name": "stdout",
     "output_type": "stream",
     "text": [
      "['child', 'child', 'adult', 'adult', 'adult', 'old', 'old', 'child', 'child']\n"
     ]
    }
   ],
   "source": [
    "passenger_list=['charan','vharsha','raswanth','surr','gau','jero','birl','goku','max']\n",
    "passenger_age=[3,11,19,21,24,46,63,5,2]\n",
    "category=[]\n",
    "\n",
    "for i in range(len(passenger_list)):\n",
    "    if (passenger_age[i]>=0 and passenger_age[i]<=18):\n",
    "        category.append('child')\n",
    "    elif passenger_age[i]>=19 and passenger_age[i]<=40:\n",
    "        category.append('adult')\n",
    "    elif passenger_age[i]>=41 and passenger_age[i]<=65:\n",
    "        category.append('old')\n",
    "    else:\n",
    "        category.append('nearing death')\n",
    "print(category)"
   ]
  },
  {
   "cell_type": "code",
   "execution_count": 9,
   "id": "0a85e852",
   "metadata": {},
   "outputs": [
    {
     "name": "stdout",
     "output_type": "stream",
     "text": [
      "Enter the number of values you need9\n",
      "enter the value: 1\n",
      "enter the value: 10\n",
      "enter the value: 25\n",
      "enter the value: 50\n",
      "enter the value: 60\n",
      "enter the value: 75\n",
      "enter the value: 80\n",
      "enter the value: 90\n",
      "enter the value: 99\n",
      "[1, 10, 25, 50, 60, 75, 80, 90, 99]\n",
      "[75, 99]\n",
      "[2499, 3599, 6399, 8099]\n",
      "[1, 10, 25]\n"
     ]
    }
   ],
   "source": [
    "n=int(input('Enter the number of values you need'))\n",
    "int_list=[]\n",
    "sub_list=[]\n",
    "sub_list2=[]\n",
    "sub_list3=[]         \n",
    "for i in range(n):\n",
    "    a=int(input('enter the value: '))\n",
    "    int_list.append(a)\n",
    "    if int_list[i]%2==1 and int_list[i]>=50:\n",
    "        sub_list.append(a)\n",
    "    elif int_list[i]%2==0 and int_list[i]>=50:\n",
    "        b=(a**2)-1\n",
    "        sub_list2.append(b)\n",
    "    else:\n",
    "        sub_list3.append(a)\n",
    "print(int_list)\n",
    "print(sub_list)\n",
    "print(sub_list2)\n",
    "print(sub_list3)\n"
   ]
  },
  {
   "cell_type": "code",
   "execution_count": null,
   "id": "054bd5d3",
   "metadata": {},
   "outputs": [],
   "source": []
  }
 ],
 "metadata": {
  "kernelspec": {
   "display_name": "Python 3 (ipykernel)",
   "language": "python",
   "name": "python3"
  },
  "language_info": {
   "codemirror_mode": {
    "name": "ipython",
    "version": 3
   },
   "file_extension": ".py",
   "mimetype": "text/x-python",
   "name": "python",
   "nbconvert_exporter": "python",
   "pygments_lexer": "ipython3",
   "version": "3.9.13"
  }
 },
 "nbformat": 4,
 "nbformat_minor": 5
}
