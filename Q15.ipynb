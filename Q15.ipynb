{
 "cells": [
  {
   "cell_type": "code",
   "execution_count": 3,
   "id": "67c0ff0c",
   "metadata": {},
   "outputs": [
    {
     "name": "stdout",
     "output_type": "stream",
     "text": [
      "Enter your nameCharan\n",
      "Enter your password12345\n",
      "Withdraw or DepositWithdraw\n",
      "Your Balance is 5000\n",
      "Enter the amount to withdraw1000\n",
      "4000\n"
     ]
    }
   ],
   "source": [
    "Username= input( 'Enter your name')\n",
    "Password= input( 'Enter your password')\n",
    "Balance=5000\n",
    "Command=input(\"Withdraw or Deposit\")\n",
    "\n",
    "if Username=='Charan':\n",
    "    print(\"Your Balance is\",Balance)\n",
    "    if Command=='Withdraw':\n",
    "        withdraw_amount=int(input('Enter the amount to withdraw'))\n",
    "        withdraw_amount=Balance-withdraw_amount\n",
    "        print(withdraw_amount)\n",
    "    \n",
    "else:\n",
    "    print(\"Invalid username\")"
   ]
  },
  {
   "cell_type": "code",
   "execution_count": 11,
   "id": "2827d795",
   "metadata": {},
   "outputs": [
    {
     "name": "stdout",
     "output_type": "stream",
     "text": [
      "Enter your nameCharan\n",
      "Enter your password12345\n",
      "Withdraw or DepositWithdraw\n",
      "Your Balance is 5000\n",
      "Enter the amount to withdraw6000\n",
      "-1000\n",
      "Your balance is low\n"
     ]
    }
   ],
   "source": [
    "Username= input( 'Enter your name')\n",
    "Password= input( 'Enter your password')\n",
    "Balance=5000\n",
    "Command=input(\"Withdraw or Deposit\")\n",
    "\n",
    "if Username=='Charan':\n",
    "    print(\"Your Balance is\",Balance)\n",
    "    if Command=='Withdraw':\n",
    "        withdraw_amount=int(input('Enter the amount to withdraw'))\n",
    "        withdraw_amount=Balance-withdraw_amount\n",
    "        print(withdraw_amount)\n",
    "        if withdraw_amount<Balance:\n",
    "            print(\"Your balance is low\")\n",
    "        \n",
    "    else:\n",
    "        deposit_amount=int(input('Enter amount to deposit'))\n",
    "        deposit_amount=Balance+deposit_amount\n",
    "        print(deposit_amount)\n",
    "else:\n",
    "    print(\"Invalid username\")"
   ]
  },
  {
   "cell_type": "code",
   "execution_count": null,
   "id": "b9bc982e",
   "metadata": {},
   "outputs": [],
   "source": [
    "Username= input( 'Enter your name')\n",
    "Password= input( 'Enter your password')\n",
    "Balance=5000\n",
    "Command=input(\"Withdraw or Deposit\")\n",
    "\n",
    "if Username=='Charan':\n",
    "    print(\"Your Balance is\",Balance)\n",
    "    if Command=='Withdraw':\n",
    "        withdraw_amount=int(input('Enter the amount to withdraw'))\n",
    "        \n",
    "        if withdraw_amount>Balance:\n",
    "            print(\"Your balance is low\")\n",
    "        else:\n",
    "            withdraw_amount=Balance-withdraw_amount\n",
    "            print(withdraw_amount)\n",
    "        \n",
    "    else:\n",
    "        deposit_amount=int(input('Enter amount to deposit'))\n",
    "        deposit_amount=Balance+deposit_amount\n",
    "        print(deposit_amount)\n",
    "else:\n",
    "    print(\"Invalid username\")"
   ]
  },
  {
   "cell_type": "code",
   "execution_count": null,
   "id": "c26f228b",
   "metadata": {},
   "outputs": [],
   "source": []
  }
 ],
 "metadata": {
  "kernelspec": {
   "display_name": "Python 3 (ipykernel)",
   "language": "python",
   "name": "python3"
  },
  "language_info": {
   "codemirror_mode": {
    "name": "ipython",
    "version": 3
   },
   "file_extension": ".py",
   "mimetype": "text/x-python",
   "name": "python",
   "nbconvert_exporter": "python",
   "pygments_lexer": "ipython3",
   "version": "3.9.13"
  }
 },
 "nbformat": 4,
 "nbformat_minor": 5
}
