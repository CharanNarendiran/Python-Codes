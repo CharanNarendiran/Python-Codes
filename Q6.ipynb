{
 "cells": [
  {
   "cell_type": "markdown",
   "id": "760ea608",
   "metadata": {},
   "source": [
    "###  Python code to implement user defined function for returning  multiple result :i . Sum of any 10 integers    ii . Average iii.  Largest value in and array"
   ]
  },
  {
   "cell_type": "code",
   "execution_count": 1,
   "id": "44c71cdc",
   "metadata": {},
   "outputs": [
    {
     "name": "stdout",
     "output_type": "stream",
     "text": [
      "How many values you want to enter: 10\n",
      "Enter 1  Value : 1\n",
      "Enter 2  Value : 2\n",
      "Enter 3  Value : 3\n",
      "Enter 4  Value : 4\n",
      "Enter 5  Value : 5\n",
      "Enter 6  Value : 6\n",
      "Enter 7  Value : 7\n",
      "Enter 8  Value : 8\n",
      "Enter 9  Value : 9\n",
      "Enter 10  Value : 8\n",
      "----------------------------------------------------\n",
      "Addition of all elements is ::  53\n",
      "Maximum No of all elements is : 9\n",
      "Average of all elements is : 5.3\n"
     ]
    }
   ],
   "source": [
    "def max(a):\n",
    "    x=len(a)\n",
    "    n=0\n",
    "    m=0\n",
    "    print(\"----------------------------------------------------\")\n",
    "    print(\"Addition of all elements is :\",end=\"\")\n",
    "    for i in range(0,x):\n",
    "        add=n+a[i]\n",
    "        n=add\n",
    "        if m<a[i]:\n",
    "            m=a[i]            \n",
    "    av=n/x\n",
    "    print(\": \",add)\n",
    "    return m,av\n",
    "values=int(input(\"How many values you want to enter: \"))\n",
    "v=[]\n",
    "b=0\n",
    "for i in range(1,values+1):\n",
    "    print(\"Enter\",i,\" Value : \",end=\"\")\n",
    "    b=int(input())\n",
    "    v.append(b)\n",
    "m,av= max(v)\n",
    "print(\"Maximum No of all elements is :\",m)\n",
    "print(\"Average of all elements is :\",av)"
   ]
  }
 ],
 "metadata": {
  "kernelspec": {
   "display_name": "Python 3 (ipykernel)",
   "language": "python",
   "name": "python3"
  },
  "language_info": {
   "codemirror_mode": {
    "name": "ipython",
    "version": 3
   },
   "file_extension": ".py",
   "mimetype": "text/x-python",
   "name": "python",
   "nbconvert_exporter": "python",
   "pygments_lexer": "ipython3",
   "version": "3.9.13"
  }
 },
 "nbformat": 4,
 "nbformat_minor": 5
}
