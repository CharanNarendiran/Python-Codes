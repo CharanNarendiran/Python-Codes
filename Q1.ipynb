{
 "cells": [
  {
   "cell_type": "markdown",
   "id": "83af6a00",
   "metadata": {},
   "source": [
    "### 1.Find the sum of the series upto n terms. Series should be of the type n+nn+nnn+nnnn+….. The number in the series and number of elements  in the series should be taken from the user as input."
   ]
  },
  {
   "cell_type": "code",
   "execution_count": 2,
   "id": "29ab50a5",
   "metadata": {},
   "outputs": [
    {
     "name": "stdout",
     "output_type": "stream",
     "text": [
      "Number to be displayed7\n",
      "Number of times to be displayed7\n",
      "7+77+777+7777+77777+777777+7777777+"
     ]
    }
   ],
   "source": [
    "n1=int(input('Number to be displayed'))\n",
    "n2=int(input('Number of times to be displayed'))\n",
    "n3=0\n",
    "\n",
    "for i in range(n2):\n",
    "    n3=n3*10+n1\n",
    "    print(n3,end=\"+\")\n"
   ]
  },
  {
   "cell_type": "markdown",
   "id": "6a62d6c8",
   "metadata": {},
   "source": [
    "### 2.Find the factorial of a given number n. Factorial of 5 = 1*2*3*4*5 = 120"
   ]
  },
  {
   "cell_type": "code",
   "execution_count": 5,
   "id": "3b758d4b",
   "metadata": {},
   "outputs": [
    {
     "name": "stdout",
     "output_type": "stream",
     "text": [
      "enter a number5\n",
      "the factorial is 120\n"
     ]
    }
   ],
   "source": [
    "n1=int(input('enter a number'))\n",
    "n=1\n",
    "for i in range(1,n1+1):\n",
    "    n=n*i\n",
    "print(\"the factorial is\",n)\n"
   ]
  },
  {
   "cell_type": "markdown",
   "id": "e862c31c",
   "metadata": {},
   "source": [
    "### 3.As a System Admin, Create a user login authentication for a bank that takes only three invalid attempts. After the three invalid attempts it should show a message “The user login has been locked. Kindly contact the administrator”.Note: The user should be asked for password only if he/she has entered the correct user name."
   ]
  },
  {
   "cell_type": "code",
   "execution_count": 6,
   "id": "e73a9a42",
   "metadata": {},
   "outputs": [
    {
     "name": "stdout",
     "output_type": "stream",
     "text": [
      "enter your usernamecharan\n",
      "enter your password1001\n",
      "you can login now\n"
     ]
    }
   ],
   "source": [
    "user='charan'\n",
    "passw='1001'\n",
    "\n",
    "n=3\n",
    "for i in range (n):\n",
    "    username=input('enter your username')\n",
    "    if user==username:\n",
    "        password=input('enter your password')\n",
    "        if passw==password:\n",
    "            print('you can login now')\n",
    "            break\n",
    "        else:\n",
    "            print('enter your valid password')\n",
    "    else:\n",
    "        attempts=2-i\n",
    "        if attempts==0:\n",
    "            print('sorry,your id is blocked')\n",
    "        else:\n",
    "            print('enter your valid username')"
   ]
  }
 ],
 "metadata": {
  "kernelspec": {
   "display_name": "Python 3 (ipykernel)",
   "language": "python",
   "name": "python3"
  },
  "language_info": {
   "codemirror_mode": {
    "name": "ipython",
    "version": 3
   },
   "file_extension": ".py",
   "mimetype": "text/x-python",
   "name": "python",
   "nbconvert_exporter": "python",
   "pygments_lexer": "ipython3",
   "version": "3.9.13"
  }
 },
 "nbformat": 4,
 "nbformat_minor": 5
}
