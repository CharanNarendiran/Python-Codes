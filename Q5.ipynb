{
 "cells": [
  {
   "cell_type": "markdown",
   "id": "dd7ad64d",
   "metadata": {},
   "source": [
    "### 1. Write a Python script to given the following output for the given input.\n",
    "\n",
    "Input Output\n",
    "abc 123\n"
   ]
  },
  {
   "cell_type": "code",
   "execution_count": 1,
   "id": "959d75e2",
   "metadata": {},
   "outputs": [
    {
     "name": "stdout",
     "output_type": "stream",
     "text": [
      "Enter value: abccba\n",
      "1 2 3 3 2 1 "
     ]
    }
   ],
   "source": [
    "search=[\"a\",\"b\",\"c\",\"d\",\"e\",\"f\",\"g\",\"h\",\"i\",\"1\",\"2\",\"3\",\"4\",\"5\",\"6\",\"7\",\"8\",\"9\",]\n",
    "a=[]\n",
    "a=input(\"Enter value: \")\n",
    "\n",
    "for i in a:\n",
    "    r = search.index(i)\n",
    "    if(r<=9):\n",
    "        print(search[r+9],end=\" \")\n",
    "    else:\n",
    "        print(search[r-9],end=\" \")"
   ]
  },
  {
   "cell_type": "markdown",
   "id": "11d7e3ba",
   "metadata": {},
   "source": [
    "### 2. Write a Python script to find the sum of digits of a number. Also make sure that the number of digits of a number given as input should have atleast 3 digit."
   ]
  },
  {
   "cell_type": "code",
   "execution_count": 2,
   "id": "78059a6c",
   "metadata": {},
   "outputs": [
    {
     "name": "stdout",
     "output_type": "stream",
     "text": [
      "Enter a number:55455\n",
      "24\n"
     ]
    }
   ],
   "source": [
    "n=(input(\"Enter a number:\"))\n",
    "sum=0\n",
    "def gsum(n):\n",
    "    if len(n)>=3:\n",
    "        sum=0\n",
    "        for digit in str(n):\n",
    "            sum+=int(digit)\n",
    "        return sum\n",
    "    else:\n",
    "        print('Your number is too short')\n",
    "print(gsum(n))"
   ]
  },
  {
   "cell_type": "markdown",
   "id": "fbfd4a78",
   "metadata": {},
   "source": [
    "### 3.Write a Python script to reverse a number."
   ]
  },
  {
   "cell_type": "code",
   "execution_count": 3,
   "id": "2d9a2d0f",
   "metadata": {},
   "outputs": [
    {
     "name": "stdout",
     "output_type": "stream",
     "text": [
      "Enter your number: 123456789\n",
      "Reversed Number: 987654321\n"
     ]
    }
   ],
   "source": [
    "num = int(input('Enter your number: '))\n",
    "reversed_num = 0\n",
    "\n",
    "while num != 0:\n",
    "    digit = num % 10\n",
    "    reversed_num = reversed_num * 10 + digit\n",
    "    num //= 10\n",
    "\n",
    "print(\"Reversed Number: \" + str(reversed_num))"
   ]
  },
  {
   "cell_type": "code",
   "execution_count": null,
   "id": "4d649deb",
   "metadata": {},
   "outputs": [],
   "source": []
  },
  {
   "cell_type": "code",
   "execution_count": null,
   "id": "90992244",
   "metadata": {},
   "outputs": [],
   "source": []
  }
 ],
 "metadata": {
  "kernelspec": {
   "display_name": "Python 3 (ipykernel)",
   "language": "python",
   "name": "python3"
  },
  "language_info": {
   "codemirror_mode": {
    "name": "ipython",
    "version": 3
   },
   "file_extension": ".py",
   "mimetype": "text/x-python",
   "name": "python",
   "nbconvert_exporter": "python",
   "pygments_lexer": "ipython3",
   "version": "3.9.13"
  }
 },
 "nbformat": 4,
 "nbformat_minor": 5
}
