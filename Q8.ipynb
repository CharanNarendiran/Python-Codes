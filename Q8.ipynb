{
 "cells": [
  {
   "cell_type": "markdown",
   "id": "c688aa43",
   "metadata": {},
   "source": [
    "1. Create a dictionary for a movie ticket booking system with keys as the movie ID and other attributes [name,language,genre,ratings] as values.\n",
    "2. Take an input from the user and add a new movie to the dictionary.\n",
    "3. Take the input from a user and remove a particular movie.\n",
    "4. Overwrite the details of any movie ID.\n"
   ]
  },
  {
   "cell_type": "code",
   "execution_count": 3,
   "id": "7fb39e1e",
   "metadata": {},
   "outputs": [
    {
     "name": "stdout",
     "output_type": "stream",
     "text": [
      "No of movies3\n",
      "enter the movie id: 1\n",
      "enter the movie name: aaa\n",
      "enter the movie id: 2\n",
      "enter the movie name: bbb\n",
      "enter the movie id: 3\n",
      "enter the movie name: ccc\n",
      "{1: [['aaa', 'bbb', 'ccc'], 'tamil', 'Thriller', '9'], 2: [['aaa', 'bbb', 'ccc'], 'tamil', 'Thriller', '9'], 3: [['aaa', 'bbb', 'ccc'], 'tamil', 'Thriller', '9']}\n"
     ]
    }
   ],
   "source": [
    "dict={}\n",
    "n=int(input('No of movies'))\n",
    "movie_id=[]\n",
    "movie_name=[]\n",
    "movie_attribute=[movie_name,'tamil','Thriller','9']\n",
    "for i in range(n):\n",
    "    a=int(input('enter the movie id: '))\n",
    "    b=(input('enter the movie name: '))\n",
    "    movie_id.append(a)\n",
    "    movie_name.append(b)\n",
    "    \n",
    "    dict[movie_id[i]]=movie_attribute\n",
    "print(dict)"
   ]
  },
  {
   "cell_type": "code",
   "execution_count": 11,
   "id": "cde1af44",
   "metadata": {},
   "outputs": [
    {
     "name": "stdout",
     "output_type": "stream",
     "text": [
      "Adding movies to the list\n",
      "Enter the number of movies: 3\n",
      "Enter the movie name: a1\n",
      "Enter the language of the movie: tam\n",
      "Enter the genre of the movie: thriller\n",
      "Enter the ratings: 3\n",
      "{1: ['aaaa', 'bbbb', 'cccc', 2], 2: ['dddd', 'eeee', 'ffff', 4], 3: (['a1'], ['tam'], ['thriller'], [3])}\n",
      "Enter the movie name: b1\n",
      "Enter the language of the movie: tam\n",
      "Enter the genre of the movie: comedy\n",
      "Enter the ratings: 3\n",
      "{1: ['aaaa', 'bbbb', 'cccc', 2], 2: ['dddd', 'eeee', 'ffff', 4], 3: (['a1', 'b1'], ['tam', 'tam'], ['thriller', 'comedy'], [3, 3])}\n",
      "Enter the movie name: c1\n",
      "Enter the language of the movie: english\n",
      "Enter the genre of the movie: crime\n",
      "Enter the ratings: 2\n",
      "{1: ['aaaa', 'bbbb', 'cccc', 2], 2: ['dddd', 'eeee', 'ffff', 4], 3: (['a1', 'b1', 'c1'], ['tam', 'tam', 'english'], ['thriller', 'comedy', 'crime'], [3, 3, 2])}\n",
      "Removing a movie from the list\n",
      "Number of movies: 1\n",
      "Enter the movie: 2\n",
      "{1: ['aaaa', 'bbbb', 'cccc', 2], 3: (['a1', 'b1', 'c1'], ['tam', 'tam', 'english'], ['thriller', 'comedy', 'crime'], [3, 3, 2])}\n"
     ]
    }
   ],
   "source": [
    "n_movie=[]\n",
    "l_movie=[]\n",
    "g_movie=[]\n",
    "r_movie=[]\n",
    "movie_id={1:['aaaa','bbbb','cccc',2],2:['dddd','eeee','ffff',4]}\n",
    "print(\"Adding movies to the list\")\n",
    "a=int(input(\"Enter the number of movies: \"))\n",
    "for i in range(a):\n",
    "    b=input('Enter the movie name: ')\n",
    "    n_movie.append(b)\n",
    "    c=input('Enter the language of the movie: ')\n",
    "    l_movie.append(c)\n",
    "    d=input('Enter the genre of the movie: ')\n",
    "    g_movie.append(d)\n",
    "    e=int(input(\"Enter the ratings: \"))\n",
    "    \n",
    "    \n",
    "    \n",
    "    r_movie.append(e)\n",
    "    movie_id[3]=n_movie,l_movie,g_movie,r_movie\n",
    "    print(movie_id)\n",
    "print(\"Removing a movie from the list\")\n",
    "f=int(input(\"Number of movies: \"))\n",
    "for i in range(f):\n",
    "    g=int(input('Enter the movie: '))\n",
    "    movie_id.pop(g)\n",
    "    print(movie_id)"
   ]
  },
  {
   "cell_type": "code",
   "execution_count": null,
   "id": "0b565f28",
   "metadata": {},
   "outputs": [],
   "source": []
  },
  {
   "cell_type": "code",
   "execution_count": null,
   "id": "7a314975",
   "metadata": {},
   "outputs": [],
   "source": []
  }
 ],
 "metadata": {
  "kernelspec": {
   "display_name": "Python 3 (ipykernel)",
   "language": "python",
   "name": "python3"
  },
  "language_info": {
   "codemirror_mode": {
    "name": "ipython",
    "version": 3
   },
   "file_extension": ".py",
   "mimetype": "text/x-python",
   "name": "python",
   "nbconvert_exporter": "python",
   "pygments_lexer": "ipython3",
   "version": "3.9.13"
  }
 },
 "nbformat": 4,
 "nbformat_minor": 5
}
