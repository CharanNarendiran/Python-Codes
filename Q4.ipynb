{
 "cells": [
  {
   "cell_type": "markdown",
   "id": "9bec6aa4",
   "metadata": {},
   "source": [
    "### 1. Accept an integer value from a user.Count the total number of digits in that number. If the number of digits is greater than 6 print \"OOps. Too lengthy\" and if its is less than 3 print(\"Its too tiny\"). (Without converting to a character)"
   ]
  },
  {
   "cell_type": "code",
   "execution_count": 6,
   "id": "01cf4be6",
   "metadata": {},
   "outputs": [
    {
     "name": "stdout",
     "output_type": "stream",
     "text": [
      "enter a number 1\n",
      "Its too tiny\n"
     ]
    }
   ],
   "source": [
    "num=int(input('enter a number '))\n",
    "count=0\n",
    "while (num!=0):\n",
    "    count+=1\n",
    "    num=num//10\n",
    "if count>6:\n",
    "    print(\"OOPS the number you have entered is too lengthy\")\n",
    "elif count < 3:\n",
    "    print('Its too tiny')\n",
    "else:\n",
    "    print('Perfect!!!')"
   ]
  },
  {
   "cell_type": "markdown",
   "id": "0c88232c",
   "metadata": {},
   "source": [
    "### 2. Accept an integer from a user and print its multiplication table till 10 with the format \"x * 1 = x\" where x is the user input."
   ]
  },
  {
   "cell_type": "code",
   "execution_count": 2,
   "id": "495fa2e3",
   "metadata": {},
   "outputs": [
    {
     "name": "stdout",
     "output_type": "stream",
     "text": [
      "Enter the table you want for multiplication10\n",
      "10 * 1 = 10\n",
      "10 * 2 = 20\n",
      "10 * 3 = 30\n",
      "10 * 4 = 40\n",
      "10 * 5 = 50\n",
      "10 * 6 = 60\n",
      "10 * 7 = 70\n",
      "10 * 8 = 80\n",
      "10 * 9 = 90\n",
      "10 * 10 = 100\n"
     ]
    }
   ],
   "source": [
    "n= int(input('Enter the table you want for multiplication'))\n",
    "for i in range(1,11):\n",
    "    a=n*i\n",
    "    print(n,'*', i,'=',a)"
   ]
  },
  {
   "cell_type": "markdown",
   "id": "6e8151e4",
   "metadata": {},
   "source": [
    "### 3. Write a program to print all the multiples of 5 and 7 in a given range. Range shall be taken from the user."
   ]
  },
  {
   "cell_type": "code",
   "execution_count": 4,
   "id": "e50e48d8",
   "metadata": {},
   "outputs": [
    {
     "name": "stdout",
     "output_type": "stream",
     "text": [
      "enter the min value1\n",
      "enter the max value60\n",
      "5,7,10,14,15,20,21,25,28,30,35,40,42,45,49,50,55,56,60,"
     ]
    }
   ],
   "source": [
    "a=int(input('enter the min value'))\n",
    "b=int(input('enter the max value'))\n",
    "for i in range(a,b+1):\n",
    "    if i%5==0 or i%7==0:\n",
    "        print(i,end=',')"
   ]
  },
  {
   "cell_type": "markdown",
   "id": "7a8fdb90",
   "metadata": {},
   "source": [
    "### 4. Create a menu driven program for a bank that does the login, deposit, withdrawal and loan application using the concepts of function."
   ]
  },
  {
   "cell_type": "code",
   "execution_count": 7,
   "id": "5c9fd7c6",
   "metadata": {},
   "outputs": [
    {
     "name": "stdout",
     "output_type": "stream",
     "text": [
      "Welcome To ABC Bank\n",
      "Enter Your ID and Password\n",
      "Enter your UsernameCharan\n",
      "Enter your Password1234\n",
      "Welcome Charan\n",
      "Your current bank balance is  5000\n",
      "For Deposit press 1\n",
      "For Withdrawal press 2\n",
      "To avail a loan press 3\n",
      "To quit press 4\n",
      "Enter your choice4\n",
      "Thank You\n"
     ]
    }
   ],
   "source": [
    "print(\"Welcome To ABC Bank\")\n",
    "print(\"Enter Your ID and Password\")\n",
    "def Log_in():\n",
    "    count = 0\n",
    "    uuser_id = \"Charan\"\n",
    "    uuser_password = \"1234\"\n",
    "    while count < 3:\n",
    "        user_id = input(\"Enter your Username\")\n",
    "        if user_id == uuser_id:\n",
    "            user_password = input(\"Enter your Password\")\n",
    "            if user_password == uuser_password:\n",
    "                print(\"Welcome\",user_id)\n",
    "                return True\n",
    "                break\n",
    "            else:\n",
    "                print(\"Incorrect Password\")\n",
    "                count += 1\n",
    "                \n",
    "        else:\n",
    "            print(\"Incorrect Username\")\n",
    "            count += 1\n",
    "\n",
    "def deposit(Bank_balance):\n",
    "    Amount = int(input(\"Enter the Amount \"))\n",
    "    end_balance = Bank_balance + Amount\n",
    "    print(\"Your new balance is\",end_balance)\n",
    "    return end_balance\n",
    "\n",
    "def withdraw(Bank_balance):\n",
    "    while True:\n",
    "        Amount = int(input(\"Enter the Amount \"))\n",
    "        if Bank_balance<Amount:\n",
    "            print(\"Bank Balance is Low\")\n",
    "            continue\n",
    "        else:\n",
    "            end_balance = Bank_balance - Amount\n",
    "            print(\"Your New balance is\",end_balance)\n",
    "            return end_balance\n",
    "            break\n",
    "            \n",
    "def loan(Bank_balance):\n",
    "    max_loan_amount = Bank_balance * .75\n",
    "    print(\"The maximum loan amount that you can get is\",max_loan_amount)\n",
    "    while True:\n",
    "        loan_amount = int(input(\"Enter the loan amount required \"))\n",
    "        if loan_amount > max_loan_amount:\n",
    "            print(\"The loan amount entered exceeds the limit\")\n",
    "            continue\n",
    "        else:\n",
    "            loan_balance = Bank_balance + loan_amount\n",
    "            print(\"Your Loan amount has been succesfully added to your account\")\n",
    "            print(\"Your Final Bank Balance is \",loan_balance)\n",
    "            return loan_balance\n",
    "            break\n",
    "\n",
    "Balance = 5000\n",
    "login = Log_in()\n",
    "if login == True:\n",
    "    print(\"Your current bank balance is \",Balance)\n",
    "    print(\"For Deposit press 1\")\n",
    "    print(\"For Withdrawal press 2\")\n",
    "    print(\"To avail a loan press 3\")\n",
    "    print(\"To quit press 4\")\n",
    "    \n",
    "    while True:\n",
    "        choice = int(input(\"Enter your choice\"))\n",
    "        if choice == 1:\n",
    "            Balance = deposit(Balance)\n",
    "        elif choice == 2:\n",
    "            Balance = withdraw(Balance)\n",
    "        elif choice == 3:\n",
    "            Balnce = loan(Balance)\n",
    "        elif choice == 4:\n",
    "            print(\"Thank You\")\n",
    "            break\n",
    "        else:\n",
    "            print(\"Invalid Input\")            \n"
   ]
  },
  {
   "cell_type": "markdown",
   "id": "d628d7c5",
   "metadata": {},
   "source": [
    "### 5.Write a program to accept a number from a user and calculate the sum of all numbers from 1 to a given number. For example, if the user entered 10 the output should be 55 (1+2+3+4+5+6+7+8+9+10)"
   ]
  },
  {
   "cell_type": "code",
   "execution_count": 8,
   "id": "4570c7ae",
   "metadata": {},
   "outputs": [
    {
     "name": "stdout",
     "output_type": "stream",
     "text": [
      "Enter a Number10\n",
      "55\n"
     ]
    }
   ],
   "source": [
    "num = int(input(\"Enter a Number\"))\n",
    "sum = 0\n",
    "for s in range(1, num + 1):\n",
    "    sum += s\n",
    "    \n",
    "print(sum)"
   ]
  },
  {
   "cell_type": "markdown",
   "id": "4e404e23",
   "metadata": {},
   "source": [
    "### 6.Write a program to create a user login that would allow the user to enter unlimited  invalid attempts of either username or password. The default username and password can be assumed to me 'Admin' and 'admin' respectively."
   ]
  },
  {
   "cell_type": "code",
   "execution_count": 9,
   "id": "0c7d3cec",
   "metadata": {},
   "outputs": [
    {
     "name": "stdout",
     "output_type": "stream",
     "text": [
      "Enter UsernameAdmin\n",
      "Enter Passwordadmin\n",
      "Logged In\n"
     ]
    }
   ],
   "source": [
    "while True:\n",
    "    user_id = \"Admin\"\n",
    "    user_password = \"admin\"\n",
    "    user_id = input(\"Enter Username\")\n",
    "    if user_id == user_id:\n",
    "        user_password = input(\"Enter Password\")\n",
    "        if user_password == user_password:\n",
    "            print(\"Logged In\")\n",
    "            break\n",
    "        else:\n",
    "            print(\"Wrong Password\")\n",
    "            continue\n",
    "    else:\n",
    "        print(\"Wrong Username\")"
   ]
  },
  {
   "cell_type": "markdown",
   "id": "06ba729d",
   "metadata": {},
   "source": [
    "### 7. Write a program to ask user a question. If the answer is anything other than YES/yes or NO/no the the user should be given a prompt as 'Its just a matter of Yes or No.' and ask the same question again till the answer is either of yes or no."
   ]
  },
  {
   "cell_type": "code",
   "execution_count": 10,
   "id": "d79dcf29",
   "metadata": {},
   "outputs": [
    {
     "name": "stdout",
     "output_type": "stream",
     "text": [
      "Do you want to do this work?YES\n",
      "Okay, fine\n"
     ]
    }
   ],
   "source": [
    "while True:\n",
    "    q= input(\"Do you want to do this work?\")\n",
    "    if q == \"YES\" or q == \"NO\":\n",
    "        print(\"Okay, fine\")\n",
    "        break\n",
    "    else:\n",
    "        print(\"Its just a matter of Yes or No.\")"
   ]
  }
 ],
 "metadata": {
  "kernelspec": {
   "display_name": "Python 3 (ipykernel)",
   "language": "python",
   "name": "python3"
  },
  "language_info": {
   "codemirror_mode": {
    "name": "ipython",
    "version": 3
   },
   "file_extension": ".py",
   "mimetype": "text/x-python",
   "name": "python",
   "nbconvert_exporter": "python",
   "pygments_lexer": "ipython3",
   "version": "3.9.13"
  }
 },
 "nbformat": 4,
 "nbformat_minor": 5
}
