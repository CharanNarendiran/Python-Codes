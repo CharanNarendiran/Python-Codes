{
 "cells": [
  {
   "cell_type": "markdown",
   "id": "98431433",
   "metadata": {},
   "source": [
    "Lab 10\n",
    "1. create a user login with login and register feature. The username and password\n",
    "should be validated. Duplicates usernames cannot be there in the list while\n",
    "registering.\n",
    "2. Create an item details as given below:\n",
    "AQ001 : [name of item, price of item, seller of item,catgory of item]\n",
    "The user should be asked to enter the details for 2 items in each category\n",
    "Electrical appliances,Furnitures, Clothes…\n",
    "3. Once the dictionary is created the program should create a list of item from the\n",
    "dictionary that stores only IDs of any single category.\n",
    "4. Create a list of 5 student ids taken as inpput from the user.\n",
    "5. Create a data structure that takes in marks of 5 subjects for each student in the\n",
    "list and assign to the ids.\n",
    "6. once the marks are assigned, try and update marks for any single subject for\n",
    "all students. the new marks has to be taken from the user."
   ]
  },
  {
   "cell_type": "code",
   "execution_count": 3,
   "id": "50731c5f",
   "metadata": {},
   "outputs": [
    {
     "name": "stdout",
     "output_type": "stream",
     "text": [
      " 1-sign up \n",
      " 2-login\n",
      " 3-exit\n",
      "Enter your choice1\n",
      "Enter a new username- charan\n",
      "The username exists. Enter a new Username\n",
      "Enter a new username- ch\n",
      "Enter a password- ch\n",
      "You have signed up. Welcome\n",
      "Enter your choice3\n"
     ]
    }
   ],
   "source": [
    "def Sign_up(name, password):\n",
    "    while True:\n",
    "        username_input = input(\"Enter a new username- \")\n",
    "        if username_input in name:\n",
    "            print(\"The username exists. Enter a new Username\")\n",
    "            continue\n",
    "        else:\n",
    "            name.append(username_input)\n",
    "            password_input = input(\"Enter a password- \")\n",
    "            password.append(password_input)\n",
    "            print(\"You have signed up. Welcome\")\n",
    "            return name, password\n",
    "        \n",
    "def log_in(name, password):\n",
    "    username_index = 0\n",
    "    while True:\n",
    "        username_input = input(\"Enter your Username- \")\n",
    "        if username_input not in name:\n",
    "            print(\"Wrong username. Please Enter it again\")\n",
    "            continue\n",
    "        else:\n",
    "            username_index = name.index(username_input)\n",
    "            password_input = input(\"Enter your password- \")\n",
    "            if password_input == password[username_index]:\n",
    "                print(\"Welcome Back. You are Logged In\")\n",
    "                break\n",
    "            else:\n",
    "                print(\"Wrong Password. Enter again\")\n",
    "                continue\n",
    "                \n",
    "username_list = ['charan', 'chara', 'charan4140']\n",
    "password_list = ['cha', 'chara', 'ch']\n",
    "print(\" 1-sign up \\n 2-login\\n 3-exit\")\n",
    "\n",
    "while True:\n",
    "    user_choice = int(input(\"Enter your choice\"))\n",
    "    if user_choice == 1:\n",
    "        Sign_up(username_list, password_list)\n",
    "        continue\n",
    "    elif user_choice == 2:\n",
    "        log_in(username_list, password_list)\n",
    "        continue\n",
    "    elif user_choice == 3:\n",
    "        break\n",
    "    else:\n",
    "        print(\"Wrong Input\")\n",
    "        continue\n"
   ]
  },
  {
   "cell_type": "code",
   "execution_count": 10,
   "id": "77b9610e",
   "metadata": {},
   "outputs": [
    {
     "name": "stdout",
     "output_type": "stream",
     "text": [
      "The list of product catagory available are: ['Mobile Phones', 'Computers', 'Clothes', 'Electronics']\n",
      "Enter new products in the given catagory\n",
      "Press 1 to enter new product and 2 to exit\n",
      "Enter the catagory you want to add product to: 1001\n",
      "Enter Product name: phone\n",
      "Enter the product Price: 100\n",
      "Enter the supplier's name: flipkart\n",
      "Your Choice: 2\n",
      "{1001: ['Oneplus Nord Mobile', 30000, 'charan', 'Mobile Phones'], 1002: ['Iphone 13', 130000, 'charan', 'Mobile Phones'], 1003: ['Dell Laptop', 70000, 'vharsha', 'Computers'], 1004: ['Allen Solly Suit', 15000, 'ras', 'Clothes'], 1005: ['Van Huesen Shirt', 5000, 'gokul', 'Clothes'], 1006: ['Usha Fan', 2000, 'sura', 'Electronics'], 1007: ['phone', 100, 'flipkart', '1001']}\n"
     ]
    }
   ],
   "source": [
    "item_dic = {1001:['Oneplus Nord Mobile', 30000, 'charan', 'Mobile Phones'],\n",
    "           1002 : ['Iphone 13', 130000, 'charan', 'Mobile Phones'],\n",
    "           1003 : ['Dell Laptop', 70000, 'vharsha', 'Computers'],\n",
    "           1004 : ['Allen Solly Suit', 15000, 'ras', 'Clothes'],\n",
    "           1005 : ['Van Huesen Shirt', 5000, 'gokul', 'Clothes'],\n",
    "           1006 : ['Usha Fan', 2000, 'sura', 'Electronics']}\n",
    "cat_list = ['Mobile Phones', 'Computers', 'Clothes', 'Electronics']\n",
    "def item_ID(m_dic):\n",
    "    ID_list = [x for x in m_dic] \n",
    "    new_id = ID_list[-1] + 1\n",
    "    return new_id\n",
    "\n",
    "print(f'The list of product catagory available are: {cat_list}')\n",
    "print(\"Enter new products in the given catagory\")\n",
    "print('Press 1 to enter new product and 2 to exit')\n",
    "while True:\n",
    "    prod_list = []\n",
    "    cat_choice = input(\"Enter the catagory you want to add product to: \")\n",
    "    product = input('Enter Product name: ')\n",
    "    prod_list.append(product)\n",
    "    price = int(input('Enter the product Price: '))\n",
    "    prod_list.append(price)\n",
    "    supp = input(\"Enter the supplier's name: \")\n",
    "    prod_list.append(supp)\n",
    "    prod_list.append(cat_choice)\n",
    "    new_id = item_ID(item_dic)\n",
    "    item_dic[new_id] = prod_list\n",
    "    choice = int(input('Your Choice: '))\n",
    "    if choice == 1:\n",
    "        continue\n",
    "    elif choice == 2:\n",
    "        break\n",
    "    else:\n",
    "        print('Wrong input')\n",
    "        \n",
    "print(item_dic)\n"
   ]
  },
  {
   "cell_type": "code",
   "execution_count": 11,
   "id": "df0148ce",
   "metadata": {},
   "outputs": [
    {
     "name": "stdout",
     "output_type": "stream",
     "text": [
      "Enter the product Catagory, ID you want to save: 1001\n",
      "[1007]\n"
     ]
    }
   ],
   "source": [
    "id_list = []\n",
    "p_cat = input('Enter the product Catagory, ID you want to save: ')\n",
    "for it in item_dic:\n",
    "    if p_cat in item_dic[it]:\n",
    "        id_list.append(it)\n",
    "print(id_list)\n",
    "\n"
   ]
  },
  {
   "cell_type": "code",
   "execution_count": 12,
   "id": "17815698",
   "metadata": {},
   "outputs": [
    {
     "name": "stdout",
     "output_type": "stream",
     "text": [
      "Enter the Student ID: 12\n",
      "Enter the Student ID: 12\n",
      "Enter the Student ID: 144\n",
      "Enter the Student ID: 123\n",
      "Enter the Student ID: 145\n",
      "[12, 12, 144, 123, 145]\n"
     ]
    }
   ],
   "source": [
    "std_id_list = []\n",
    "for i in range(5):\n",
    "    id_numb = int(input(\"Enter the Student ID: \"))\n",
    "    std_id_list.append(id_numb)\n",
    "print(std_id_list)\n"
   ]
  },
  {
   "cell_type": "code",
   "execution_count": 14,
   "id": "0f3a956f",
   "metadata": {},
   "outputs": [
    {
     "name": "stdout",
     "output_type": "stream",
     "text": [
      "12 marks in English: 90\n",
      "12 marks in Maths: 40\n",
      "12 marks in Biology: 20\n",
      "12 marks in Chemistry: 55\n",
      "12 marks in Physics: 56\n",
      "12 marks in English: 50\n",
      "12 marks in Maths: 40\n",
      "12 marks in Biology: 70\n",
      "12 marks in Chemistry: 50\n",
      "12 marks in Physics: 70\n",
      "144 marks in English: 45\n",
      "144 marks in Maths: 67\n",
      "144 marks in Biology: 89\n",
      "144 marks in Chemistry: 08\n",
      "144 marks in Physics: 78\n",
      "123 marks in English: 78\n",
      "123 marks in Maths: 90\n",
      "123 marks in Biology: 67\n",
      "123 marks in Chemistry: 78\n",
      "123 marks in Physics: 90\n",
      "145 marks in English: 34\n",
      "145 marks in Maths: 78\n",
      "145 marks in Biology: 90\n",
      "145 marks in Chemistry: 45\n",
      "145 marks in Physics: 67\n",
      "{12: {'English': 50, 'Maths': 40, 'Biology': 70, 'Chemistry': 50, 'Physics': 70}, 144: {'English': 45, 'Maths': 67, 'Biology': 89, 'Chemistry': 8, 'Physics': 78}, 123: {'English': 78, 'Maths': 90, 'Biology': 67, 'Chemistry': 78, 'Physics': 90}, 145: {'English': 34, 'Maths': 78, 'Biology': 90, 'Chemistry': 45, 'Physics': 67}}\n"
     ]
    }
   ],
   "source": [
    "std_mark_dic = {}\n",
    "sub_list = ['English', 'Maths', 'Biology', 'Chemistry', 'Physics']\n",
    "for s in std_id_list:\n",
    "    mark_dic = {}\n",
    "    for sub in sub_list:\n",
    "        mark = int(input(f\"{s} marks in {sub}: \"))\n",
    "        mark_dic[sub] = mark\n",
    "        \n",
    "    std_mark_dic[s] = mark_dic\n",
    "    \n",
    "print(std_mark_dic)\n",
    "\n"
   ]
  },
  {
   "cell_type": "code",
   "execution_count": 15,
   "id": "18cf3420",
   "metadata": {},
   "outputs": [
    {
     "name": "stdout",
     "output_type": "stream",
     "text": [
      "Subject's marks that needs to be changed: English\n",
      "English's new mark for 12 is89\n",
      "English's new mark for 144 is78\n",
      "English's new mark for 123 is67\n",
      "English's new mark for 145 is89\n",
      "{12: {'English': 89, 'Maths': 40, 'Biology': 70, 'Chemistry': 50, 'Physics': 70}, 144: {'English': 78, 'Maths': 67, 'Biology': 89, 'Chemistry': 8, 'Physics': 78}, 123: {'English': 67, 'Maths': 90, 'Biology': 67, 'Chemistry': 78, 'Physics': 90}, 145: {'English': 89, 'Maths': 78, 'Biology': 90, 'Chemistry': 45, 'Physics': 67}}\n"
     ]
    }
   ],
   "source": [
    "chan_sub = input(\"Subject's marks that needs to be changed: \")\n",
    "for key in std_mark_dic:\n",
    "    temp_dic = std_mark_dic[key]\n",
    "    new_mark = int(input(f\"{chan_sub}'s new mark for {key} is\"))\n",
    "    temp_dic[chan_sub] = new_mark\n",
    "    \n",
    "print(std_mark_dic)\n"
   ]
  }
 ],
 "metadata": {
  "kernelspec": {
   "display_name": "Python 3 (ipykernel)",
   "language": "python",
   "name": "python3"
  },
  "language_info": {
   "codemirror_mode": {
    "name": "ipython",
    "version": 3
   },
   "file_extension": ".py",
   "mimetype": "text/x-python",
   "name": "python",
   "nbconvert_exporter": "python",
   "pygments_lexer": "ipython3",
   "version": "3.9.13"
  }
 },
 "nbformat": 4,
 "nbformat_minor": 5
}
