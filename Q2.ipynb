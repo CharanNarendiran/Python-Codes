{
 "cells": [
  {
   "cell_type": "markdown",
   "id": "472f166b",
   "metadata": {},
   "source": [
    "### 1. Given an integer, n, perform the following conditional actions:If  is odd, print Weird If  is even and in the inclusive range of  2 to 5 , print Not Weird If  is even and in the inclusive range of 6 to 20, print Weird If  is even and greater than 20, print Not Weird Input Format A single line containing a positive integer, n.Constraints1<=n<=100 Output Format Print Weird if the number is weird. Otherwise, print Not Weird."
   ]
  },
  {
   "cell_type": "code",
   "execution_count": 3,
   "id": "0c1bd5de",
   "metadata": {},
   "outputs": [
    {
     "name": "stdout",
     "output_type": "stream",
     "text": [
      "Enter a number: 8\n",
      "Weird\n"
     ]
    }
   ],
   "source": [
    "n=int(input('Enter a number: '))\n",
    "if n in range(1,101):\n",
    "    if n%2==1:\n",
    "        print('weird')\n",
    "    else:\n",
    "        if n in range (2,6):\n",
    "            print('Not Weird')\n",
    "        elif n in range(6,20):\n",
    "            print('Weird')\n",
    "        else:\n",
    "            print('Not Weird')\n",
    "else:\n",
    "    print('Not in range')"
   ]
  },
  {
   "cell_type": "markdown",
   "id": "a000a38b",
   "metadata": {},
   "source": [
    "### 2. Take an input n from the user that tells the systems the number of elements the user is goung to enter.WAP to take in , n, int inputs from the user and find the sum of all the even numbers without using the concepts of complex data types and count the number of odd numbers."
   ]
  },
  {
   "cell_type": "code",
   "execution_count": 5,
   "id": "3678614f",
   "metadata": {},
   "outputs": [
    {
     "name": "stdout",
     "output_type": "stream",
     "text": [
      "How many numbers do you want?5\n",
      "enter a number: 4\n",
      "enter a number: 5\n",
      "enter a number: 6\n",
      "enter a number: 1\n",
      "enter a number: 2\n",
      "Sum of even numbers 12\n",
      "Count of odd numbers 2\n"
     ]
    }
   ],
   "source": [
    "n=int(input('How many numbers do you want?'))\n",
    "even_sum=0\n",
    "odd_count=0\n",
    "for i in range (n):\n",
    "    a=int(input('enter a number: '))\n",
    "    if a%2==0:\n",
    "        even_sum=even_sum+a\n",
    "    else:\n",
    "        odd_count=odd_count+1\n",
    "print(\"Sum of even numbers\",even_sum)\n",
    "print(\"Count of odd numbers\",odd_count)"
   ]
  },
  {
   "cell_type": "markdown",
   "id": "8679cd82",
   "metadata": {},
   "source": [
    "### 3. Write a program to print the prime numbers from a user specified range.\n"
   ]
  },
  {
   "cell_type": "code",
   "execution_count": 1,
   "id": "34872e00",
   "metadata": {},
   "outputs": [
    {
     "name": "stdout",
     "output_type": "stream",
     "text": [
      "Enter the first interval5\n",
      "Enter the last interval10\n",
      "The Prime Numbers in the range:\n",
      "5\n",
      "7\n"
     ]
    }
   ],
   "source": [
    "first_value = int(input (\"Enter the first interval\"))\n",
    "last_value = int(input (\"Enter the last interval\"))\n",
    "print(\"The Prime Numbers in the range:\")  \n",
    "for number in range(first_value, last_value + 1):  \n",
    "    if number>1:  \n",
    "        for i in range(2,number):  \n",
    "            if (number%i)==0:  \n",
    "                break  \n",
    "        else:  \n",
    "            print (number)  "
   ]
  },
  {
   "cell_type": "code",
   "execution_count": null,
   "id": "c41a7d33",
   "metadata": {},
   "outputs": [],
   "source": []
  }
 ],
 "metadata": {
  "kernelspec": {
   "display_name": "Python 3 (ipykernel)",
   "language": "python",
   "name": "python3"
  },
  "language_info": {
   "codemirror_mode": {
    "name": "ipython",
    "version": 3
   },
   "file_extension": ".py",
   "mimetype": "text/x-python",
   "name": "python",
   "nbconvert_exporter": "python",
   "pygments_lexer": "ipython3",
   "version": "3.9.13"
  }
 },
 "nbformat": 4,
 "nbformat_minor": 5
}
