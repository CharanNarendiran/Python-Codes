{
 "cells": [
  {
   "cell_type": "code",
   "execution_count": 3,
   "id": "884e2b6f",
   "metadata": {},
   "outputs": [
    {
     "name": "stdout",
     "output_type": "stream",
     "text": [
      "1.Add \n",
      " 2.Subtract \n",
      " 3.Multiply \n",
      " 4.Divide \n",
      " 5.Exponential \n",
      " Select operation:1\n",
      "Enter first number: 5\n",
      "Enter second number: 22\n",
      "27\n"
     ]
    }
   ],
   "source": [
    "def add(x,y):\n",
    "    return x+y\n",
    "def subtract(x,y):\n",
    "    return x-y\n",
    "def multiply(x,y):\n",
    "    return x*y\n",
    "def divide(x,y):\n",
    "    return x/y\n",
    "def exponential(x,y):\n",
    "    return x**y\n",
    "choice=input('1.Add \\n 2.Subtract \\n 3.Multiply \\n 4.Divide \\n 5.Exponential \\n Select operation:')\n",
    "if choice in ('1', '2', '3', '4','5'):\n",
    "    a=int(input('Enter first number: '))\n",
    "    b=int(input('Enter second number: '))\n",
    "    if choice=='1':\n",
    "        print(add(a,b))\n",
    "    elif choice=='2':\n",
    "        print(subtract(a,b))\n",
    "    elif choice=='3':\n",
    "        print(multiply(a,b))\n",
    "    elif choice=='4':\n",
    "        print(divide(a,b))\n",
    "    elif choice=='5':\n",
    "        print(exponential(a,b))\n",
    "else:\n",
    "    print('Invalid Input')\n"
   ]
  },
  {
   "cell_type": "code",
   "execution_count": 5,
   "id": "18eabe80",
   "metadata": {},
   "outputs": [
    {
     "name": "stdout",
     "output_type": "stream",
     "text": [
      "Maximum value is: 99\n",
      "Even numbers in the list: 3\n",
      "Odd numbers in the list: 4\n"
     ]
    }
   ],
   "source": [
    "list_1=[72,99,25,35,12,70,11]\n",
    "even_count=0\n",
    "odd_count=0\n",
    "for num in list_1:\n",
    "    if num%2==0:\n",
    "        even_count+=1\n",
    "    else:\n",
    "        odd_count+=1\n",
    "print('Maximum value is:',max(list_1))\n",
    "print('Even numbers in the list:',even_count)\n",
    "print('Odd numbers in the list:',odd_count)\n"
   ]
  }
 ],
 "metadata": {
  "kernelspec": {
   "display_name": "Python 3 (ipykernel)",
   "language": "python",
   "name": "python3"
  },
  "language_info": {
   "codemirror_mode": {
    "name": "ipython",
    "version": 3
   },
   "file_extension": ".py",
   "mimetype": "text/x-python",
   "name": "python",
   "nbconvert_exporter": "python",
   "pygments_lexer": "ipython3",
   "version": "3.9.13"
  }
 },
 "nbformat": 4,
 "nbformat_minor": 5
}
